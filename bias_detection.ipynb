{
 "cells": [
  {
   "cell_type": "code",
   "execution_count": 1,
   "metadata": {},
   "outputs": [],
   "source": [
    "%load_ext autoreload\n",
    "%autoreload 2"
   ]
  },
  {
   "cell_type": "code",
   "execution_count": 2,
   "metadata": {},
   "outputs": [
    {
     "name": "stderr",
     "output_type": "stream",
     "text": [
      "2025-06-13 16:40:59.310087: I tensorflow/core/platform/cpu_feature_guard.cc:210] This TensorFlow binary is optimized to use available CPU instructions in performance-critical operations.\n",
      "To enable the following instructions: AVX2 FMA, in other operations, rebuild TensorFlow with the appropriate compiler flags.\n",
      "/Users/nlv19419/.pyenv/versions/3.11.12/envs/incartdb-venv/lib/python3.11/site-packages/torch/_functorch/deprecated.py:61: UserWarning: We've integrated functorch into PyTorch. As the final step of the integration, functorch.vmap is deprecated as of PyTorch 2.0 and will be deleted in a future version of PyTorch >= 2.3. Please use torch.vmap instead; see the PyTorch 2.0 release notes and/or the torch.func migration guide for more details https://pytorch.org/docs/master/func.migrating.html\n",
      "  warn_deprecated('vmap', 'torch.vmap')\n"
     ]
    }
   ],
   "source": [
    "import pandas as pd\n",
    "import utils.functions as f\n",
    "import json\n",
    "\n",
    "import warnings\n",
    "\n",
    "warnings.filterwarnings(\"ignore\", message=\"Warning\")"
   ]
  },
  {
   "cell_type": "markdown",
   "metadata": {},
   "source": [
    "# Load the data\n",
    "The export from the incart database is based on the header files of that database's format and some light processing in R. We load that file here and then continue the processing because most variables are factors that need to be transformed into numeric features."
   ]
  },
  {
   "cell_type": "code",
   "execution_count": 3,
   "metadata": {},
   "outputs": [
    {
     "data": {
      "text/html": [
       "<div>\n",
       "<style scoped>\n",
       "    .dataframe tbody tr th:only-of-type {\n",
       "        vertical-align: middle;\n",
       "    }\n",
       "\n",
       "    .dataframe tbody tr th {\n",
       "        vertical-align: top;\n",
       "    }\n",
       "\n",
       "    .dataframe thead th {\n",
       "        text-align: right;\n",
       "    }\n",
       "</style>\n",
       "<table border=\"1\" class=\"dataframe\">\n",
       "  <thead>\n",
       "    <tr style=\"text-align: right;\">\n",
       "      <th></th>\n",
       "      <th>header_file</th>\n",
       "      <th>id</th>\n",
       "      <th>age</th>\n",
       "      <th>gender</th>\n",
       "      <th>age_bin</th>\n",
       "      <th>diagnosis</th>\n",
       "      <th>present</th>\n",
       "    </tr>\n",
       "  </thead>\n",
       "  <tbody>\n",
       "    <tr>\n",
       "      <th>0</th>\n",
       "      <td>/Users/nlv19419/tmp/incartdb/files//I01.hea</td>\n",
       "      <td>1</td>\n",
       "      <td>65</td>\n",
       "      <td>F</td>\n",
       "      <td>(60,65]</td>\n",
       "      <td>Coronary artery disease</td>\n",
       "      <td>1</td>\n",
       "    </tr>\n",
       "    <tr>\n",
       "      <th>1</th>\n",
       "      <td>/Users/nlv19419/tmp/incartdb/files//I01.hea</td>\n",
       "      <td>1</td>\n",
       "      <td>65</td>\n",
       "      <td>F</td>\n",
       "      <td>(60,65]</td>\n",
       "      <td>arterial hypertension</td>\n",
       "      <td>1</td>\n",
       "    </tr>\n",
       "    <tr>\n",
       "      <th>2</th>\n",
       "      <td>/Users/nlv19419/tmp/incartdb/files//I01.hea</td>\n",
       "      <td>1</td>\n",
       "      <td>65</td>\n",
       "      <td>F</td>\n",
       "      <td>(60,65]</td>\n",
       "      <td>Acute MI</td>\n",
       "      <td>0</td>\n",
       "    </tr>\n",
       "    <tr>\n",
       "      <th>3</th>\n",
       "      <td>/Users/nlv19419/tmp/incartdb/files//I01.hea</td>\n",
       "      <td>1</td>\n",
       "      <td>65</td>\n",
       "      <td>F</td>\n",
       "      <td>(60,65]</td>\n",
       "      <td>Transient ischemic attack</td>\n",
       "      <td>0</td>\n",
       "    </tr>\n",
       "    <tr>\n",
       "      <th>4</th>\n",
       "      <td>/Users/nlv19419/tmp/incartdb/files//I01.hea</td>\n",
       "      <td>1</td>\n",
       "      <td>65</td>\n",
       "      <td>F</td>\n",
       "      <td>(60,65]</td>\n",
       "      <td>left ventricular hypertrophy</td>\n",
       "      <td>0</td>\n",
       "    </tr>\n",
       "    <tr>\n",
       "      <th>5</th>\n",
       "      <td>/Users/nlv19419/tmp/incartdb/files//I01.hea</td>\n",
       "      <td>1</td>\n",
       "      <td>65</td>\n",
       "      <td>F</td>\n",
       "      <td>(60,65]</td>\n",
       "      <td>Earlier MI</td>\n",
       "      <td>0</td>\n",
       "    </tr>\n",
       "    <tr>\n",
       "      <th>6</th>\n",
       "      <td>/Users/nlv19419/tmp/incartdb/files//I01.hea</td>\n",
       "      <td>1</td>\n",
       "      <td>65</td>\n",
       "      <td>F</td>\n",
       "      <td>(60,65]</td>\n",
       "      <td>Sinus node dysfunction</td>\n",
       "      <td>0</td>\n",
       "    </tr>\n",
       "    <tr>\n",
       "      <th>7</th>\n",
       "      <td>/Users/nlv19419/tmp/incartdb/files//I02.hea</td>\n",
       "      <td>2</td>\n",
       "      <td>65</td>\n",
       "      <td>F</td>\n",
       "      <td>(60,65]</td>\n",
       "      <td>Coronary artery disease</td>\n",
       "      <td>1</td>\n",
       "    </tr>\n",
       "    <tr>\n",
       "      <th>8</th>\n",
       "      <td>/Users/nlv19419/tmp/incartdb/files//I02.hea</td>\n",
       "      <td>2</td>\n",
       "      <td>65</td>\n",
       "      <td>F</td>\n",
       "      <td>(60,65]</td>\n",
       "      <td>arterial hypertension</td>\n",
       "      <td>1</td>\n",
       "    </tr>\n",
       "    <tr>\n",
       "      <th>9</th>\n",
       "      <td>/Users/nlv19419/tmp/incartdb/files//I02.hea</td>\n",
       "      <td>2</td>\n",
       "      <td>65</td>\n",
       "      <td>F</td>\n",
       "      <td>(60,65]</td>\n",
       "      <td>Acute MI</td>\n",
       "      <td>0</td>\n",
       "    </tr>\n",
       "  </tbody>\n",
       "</table>\n",
       "</div>"
      ],
      "text/plain": [
       "                                   header_file  id  age gender  age_bin  \\\n",
       "0  /Users/nlv19419/tmp/incartdb/files//I01.hea   1   65      F  (60,65]   \n",
       "1  /Users/nlv19419/tmp/incartdb/files//I01.hea   1   65      F  (60,65]   \n",
       "2  /Users/nlv19419/tmp/incartdb/files//I01.hea   1   65      F  (60,65]   \n",
       "3  /Users/nlv19419/tmp/incartdb/files//I01.hea   1   65      F  (60,65]   \n",
       "4  /Users/nlv19419/tmp/incartdb/files//I01.hea   1   65      F  (60,65]   \n",
       "5  /Users/nlv19419/tmp/incartdb/files//I01.hea   1   65      F  (60,65]   \n",
       "6  /Users/nlv19419/tmp/incartdb/files//I01.hea   1   65      F  (60,65]   \n",
       "7  /Users/nlv19419/tmp/incartdb/files//I02.hea   2   65      F  (60,65]   \n",
       "8  /Users/nlv19419/tmp/incartdb/files//I02.hea   2   65      F  (60,65]   \n",
       "9  /Users/nlv19419/tmp/incartdb/files//I02.hea   2   65      F  (60,65]   \n",
       "\n",
       "                      diagnosis  present  \n",
       "0       Coronary artery disease        1  \n",
       "1         arterial hypertension        1  \n",
       "2                      Acute MI        0  \n",
       "3     Transient ischemic attack        0  \n",
       "4  left ventricular hypertrophy        0  \n",
       "5                    Earlier MI        0  \n",
       "6        Sinus node dysfunction        0  \n",
       "7       Coronary artery disease        1  \n",
       "8         arterial hypertension        1  \n",
       "9                      Acute MI        0  "
      ]
     },
     "execution_count": 3,
     "metadata": {},
     "output_type": "execute_result"
    }
   ],
   "source": [
    "dataset = \"incartdb_demographics\"\n",
    "df = pd.read_csv(f\"{dataset}.csv\", sep=\",\")\n",
    "df.head(10)"
   ]
  },
  {
   "cell_type": "code",
   "execution_count": 4,
   "metadata": {},
   "outputs": [
    {
     "data": {
      "text/html": [
       "<div>\n",
       "<style scoped>\n",
       "    .dataframe tbody tr th:only-of-type {\n",
       "        vertical-align: middle;\n",
       "    }\n",
       "\n",
       "    .dataframe tbody tr th {\n",
       "        vertical-align: top;\n",
       "    }\n",
       "\n",
       "    .dataframe thead th {\n",
       "        text-align: right;\n",
       "    }\n",
       "</style>\n",
       "<table border=\"1\" class=\"dataframe\">\n",
       "  <thead>\n",
       "    <tr style=\"text-align: right;\">\n",
       "      <th></th>\n",
       "      <th>header_file</th>\n",
       "      <th>id</th>\n",
       "      <th>age</th>\n",
       "      <th>gender</th>\n",
       "      <th>age_bin</th>\n",
       "      <th>diagnosis</th>\n",
       "      <th>present</th>\n",
       "    </tr>\n",
       "  </thead>\n",
       "  <tbody>\n",
       "    <tr>\n",
       "      <th>0</th>\n",
       "      <td>/Users/nlv19419/tmp/incartdb/files//I01.hea</td>\n",
       "      <td>1</td>\n",
       "      <td>65</td>\n",
       "      <td>0</td>\n",
       "      <td>6</td>\n",
       "      <td>1</td>\n",
       "      <td>1</td>\n",
       "    </tr>\n",
       "    <tr>\n",
       "      <th>1</th>\n",
       "      <td>/Users/nlv19419/tmp/incartdb/files//I01.hea</td>\n",
       "      <td>1</td>\n",
       "      <td>65</td>\n",
       "      <td>0</td>\n",
       "      <td>6</td>\n",
       "      <td>5</td>\n",
       "      <td>1</td>\n",
       "    </tr>\n",
       "    <tr>\n",
       "      <th>2</th>\n",
       "      <td>/Users/nlv19419/tmp/incartdb/files//I01.hea</td>\n",
       "      <td>1</td>\n",
       "      <td>65</td>\n",
       "      <td>0</td>\n",
       "      <td>6</td>\n",
       "      <td>0</td>\n",
       "      <td>0</td>\n",
       "    </tr>\n",
       "    <tr>\n",
       "      <th>3</th>\n",
       "      <td>/Users/nlv19419/tmp/incartdb/files//I01.hea</td>\n",
       "      <td>1</td>\n",
       "      <td>65</td>\n",
       "      <td>0</td>\n",
       "      <td>6</td>\n",
       "      <td>4</td>\n",
       "      <td>0</td>\n",
       "    </tr>\n",
       "    <tr>\n",
       "      <th>4</th>\n",
       "      <td>/Users/nlv19419/tmp/incartdb/files//I01.hea</td>\n",
       "      <td>1</td>\n",
       "      <td>65</td>\n",
       "      <td>0</td>\n",
       "      <td>6</td>\n",
       "      <td>6</td>\n",
       "      <td>0</td>\n",
       "    </tr>\n",
       "    <tr>\n",
       "      <th>5</th>\n",
       "      <td>/Users/nlv19419/tmp/incartdb/files//I01.hea</td>\n",
       "      <td>1</td>\n",
       "      <td>65</td>\n",
       "      <td>0</td>\n",
       "      <td>6</td>\n",
       "      <td>2</td>\n",
       "      <td>0</td>\n",
       "    </tr>\n",
       "    <tr>\n",
       "      <th>6</th>\n",
       "      <td>/Users/nlv19419/tmp/incartdb/files//I01.hea</td>\n",
       "      <td>1</td>\n",
       "      <td>65</td>\n",
       "      <td>0</td>\n",
       "      <td>6</td>\n",
       "      <td>3</td>\n",
       "      <td>0</td>\n",
       "    </tr>\n",
       "    <tr>\n",
       "      <th>7</th>\n",
       "      <td>/Users/nlv19419/tmp/incartdb/files//I02.hea</td>\n",
       "      <td>2</td>\n",
       "      <td>65</td>\n",
       "      <td>0</td>\n",
       "      <td>6</td>\n",
       "      <td>1</td>\n",
       "      <td>1</td>\n",
       "    </tr>\n",
       "    <tr>\n",
       "      <th>8</th>\n",
       "      <td>/Users/nlv19419/tmp/incartdb/files//I02.hea</td>\n",
       "      <td>2</td>\n",
       "      <td>65</td>\n",
       "      <td>0</td>\n",
       "      <td>6</td>\n",
       "      <td>5</td>\n",
       "      <td>1</td>\n",
       "    </tr>\n",
       "    <tr>\n",
       "      <th>9</th>\n",
       "      <td>/Users/nlv19419/tmp/incartdb/files//I02.hea</td>\n",
       "      <td>2</td>\n",
       "      <td>65</td>\n",
       "      <td>0</td>\n",
       "      <td>6</td>\n",
       "      <td>0</td>\n",
       "      <td>0</td>\n",
       "    </tr>\n",
       "  </tbody>\n",
       "</table>\n",
       "</div>"
      ],
      "text/plain": [
       "                                   header_file  id  age  gender  age_bin  \\\n",
       "0  /Users/nlv19419/tmp/incartdb/files//I01.hea   1   65       0        6   \n",
       "1  /Users/nlv19419/tmp/incartdb/files//I01.hea   1   65       0        6   \n",
       "2  /Users/nlv19419/tmp/incartdb/files//I01.hea   1   65       0        6   \n",
       "3  /Users/nlv19419/tmp/incartdb/files//I01.hea   1   65       0        6   \n",
       "4  /Users/nlv19419/tmp/incartdb/files//I01.hea   1   65       0        6   \n",
       "5  /Users/nlv19419/tmp/incartdb/files//I01.hea   1   65       0        6   \n",
       "6  /Users/nlv19419/tmp/incartdb/files//I01.hea   1   65       0        6   \n",
       "7  /Users/nlv19419/tmp/incartdb/files//I02.hea   2   65       0        6   \n",
       "8  /Users/nlv19419/tmp/incartdb/files//I02.hea   2   65       0        6   \n",
       "9  /Users/nlv19419/tmp/incartdb/files//I02.hea   2   65       0        6   \n",
       "\n",
       "   diagnosis  present  \n",
       "0          1        1  \n",
       "1          5        1  \n",
       "2          0        0  \n",
       "3          4        0  \n",
       "4          6        0  \n",
       "5          2        0  \n",
       "6          3        0  \n",
       "7          1        1  \n",
       "8          5        1  \n",
       "9          0        0  "
      ]
     },
     "execution_count": 4,
     "metadata": {},
     "output_type": "execute_result"
    }
   ],
   "source": [
    "df_processed = f.process_full_dataset(df, dataset_name=dataset)\n",
    "df_processed.head(10)"
   ]
  },
  {
   "cell_type": "markdown",
   "metadata": {},
   "source": [
    "### Correlation Matrix"
   ]
  },
  {
   "cell_type": "code",
   "execution_count": 5,
   "metadata": {},
   "outputs": [
    {
     "data": {
      "image/png": "[encoded data removed]",
      "text/plain": [
       "<Figure size 700x700 with 2 Axes>"
      ]
     },
     "metadata": {},
     "output_type": "display_data"
    }
   ],
   "source": [
    "selected_columns = [\n",
    "    \"age\",\n",
    "    \"age_bin\",\n",
    "    \"gender\", \n",
    "    \"diagnosis\"\n",
    "]\n",
    "f.plot_correlation_matrix(df_processed, selected_columns, figsize=(7,7))"
   ]
  },
  {
   "cell_type": "markdown",
   "metadata": {},
   "source": [
    "# Bias Detection"
   ]
  },
  {
   "cell_type": "markdown",
   "metadata": {},
   "source": [
    "## Gender Bias\n",
    "Enconding:\n",
    "- \"Female\": 0\n",
    "- \"Male\": 1"
   ]
  },
  {
   "cell_type": "code",
   "execution_count": 6,
   "metadata": {
    "scrolled": true
   },
   "outputs": [
    {
     "data": {
      "text/plain": [
       "Index(['header_file', 'id', 'age', 'gender', 'age_bin', 'diagnosis',\n",
       "       'present'],\n",
       "      dtype='object')"
      ]
     },
     "execution_count": 6,
     "metadata": {},
     "output_type": "execute_result"
    }
   ],
   "source": [
    "df_processed.columns"
   ]
  },
  {
   "cell_type": "markdown",
   "metadata": {},
   "source": [
    "In the present use case, we only have one value per diagnosis for each of the metrics, so it makes no sense to plot the histograms. Instead, just show the resulting table."
   ]
  },
  {
   "cell_type": "code",
   "execution_count": 18,
   "metadata": {},
   "outputs": [
    {
     "name": "stderr",
     "output_type": "stream",
     "text": [
      "/Users/nlv19419/.pyenv/versions/3.11.12/envs/incartdb-venv/lib/python3.11/site-packages/aif360/metrics/dataset_metric.py:82: RuntimeWarning: divide by zero encountered in scalar divide\n",
      "  return metric_fun(privileged=False) / metric_fun(privileged=True)\n"
     ]
    },
    {
     "data": {
      "text/html": [
       "<div>\n",
       "<style scoped>\n",
       "    .dataframe tbody tr th:only-of-type {\n",
       "        vertical-align: middle;\n",
       "    }\n",
       "\n",
       "    .dataframe tbody tr th {\n",
       "        vertical-align: top;\n",
       "    }\n",
       "\n",
       "    .dataframe thead th {\n",
       "        text-align: right;\n",
       "    }\n",
       "</style>\n",
       "<table border=\"1\" class=\"dataframe\">\n",
       "  <thead>\n",
       "    <tr style=\"text-align: right;\">\n",
       "      <th></th>\n",
       "      <th>diagnosis</th>\n",
       "      <th>disparate_impact</th>\n",
       "      <th>statistical_parity_difference</th>\n",
       "      <th>DIDI</th>\n",
       "    </tr>\n",
       "  </thead>\n",
       "  <tbody>\n",
       "    <tr>\n",
       "      <th>0</th>\n",
       "      <td>Acute MI</td>\n",
       "      <td>0.000000</td>\n",
       "      <td>-0.150000</td>\n",
       "      <td>0.070000</td>\n",
       "    </tr>\n",
       "    <tr>\n",
       "      <th>1</th>\n",
       "      <td>Coronary artery disease</td>\n",
       "      <td>8.571429</td>\n",
       "      <td>0.378571</td>\n",
       "      <td>0.176667</td>\n",
       "    </tr>\n",
       "    <tr>\n",
       "      <th>2</th>\n",
       "      <td>Earlier MI</td>\n",
       "      <td>0.326531</td>\n",
       "      <td>-0.117857</td>\n",
       "      <td>0.055000</td>\n",
       "    </tr>\n",
       "    <tr>\n",
       "      <th>3</th>\n",
       "      <td>Sinus node dysfunction</td>\n",
       "      <td>inf</td>\n",
       "      <td>0.057143</td>\n",
       "      <td>0.026667</td>\n",
       "    </tr>\n",
       "    <tr>\n",
       "      <th>4</th>\n",
       "      <td>Transient ischemic attack</td>\n",
       "      <td>0.000000</td>\n",
       "      <td>-0.175000</td>\n",
       "      <td>0.081667</td>\n",
       "    </tr>\n",
       "    <tr>\n",
       "      <th>5</th>\n",
       "      <td>arterial hypertension</td>\n",
       "      <td>8.571429</td>\n",
       "      <td>0.378571</td>\n",
       "      <td>0.176667</td>\n",
       "    </tr>\n",
       "    <tr>\n",
       "      <th>6</th>\n",
       "      <td>left ventricular hypertrophy</td>\n",
       "      <td>5.142857</td>\n",
       "      <td>0.207143</td>\n",
       "      <td>0.096667</td>\n",
       "    </tr>\n",
       "  </tbody>\n",
       "</table>\n",
       "</div>"
      ],
      "text/plain": [
       "                      diagnosis  disparate_impact  \\\n",
       "0                      Acute MI          0.000000   \n",
       "1       Coronary artery disease          8.571429   \n",
       "2                    Earlier MI          0.326531   \n",
       "3        Sinus node dysfunction               inf   \n",
       "4     Transient ischemic attack          0.000000   \n",
       "5         arterial hypertension          8.571429   \n",
       "6  left ventricular hypertrophy          5.142857   \n",
       "\n",
       "   statistical_parity_difference      DIDI  \n",
       "0                      -0.150000  0.070000  \n",
       "1                       0.378571  0.176667  \n",
       "2                      -0.117857  0.055000  \n",
       "3                       0.057143  0.026667  \n",
       "4                      -0.175000  0.081667  \n",
       "5                       0.378571  0.176667  \n",
       "6                       0.207143  0.096667  "
      ]
     },
     "execution_count": 18,
     "metadata": {},
     "output_type": "execute_result"
    }
   ],
   "source": [
    "gender_bias = f.show_bias(df_processed, \"gender\", 1, plot_histogram=False)\n",
    "\n",
    "enc_file = open(\"utils/encodings/incartdb_demographics_diagnosis_encoding.json\")\n",
    "enc = json.load(enc_file)\n",
    "reverse_enc = {int(value): key for key, value in enc.items()}\n",
    "gender_bias['diagnosis'] = gender_bias['diagnosis'].replace(reverse_enc).astype(str)\n",
    "\n",
    "gender_bias"
   ]
  },
  {
   "cell_type": "code",
   "execution_count": 20,
   "metadata": {},
   "outputs": [
    {
     "data": {
      "text/html": [
       "<div>\n",
       "<style scoped>\n",
       "    .dataframe tbody tr th:only-of-type {\n",
       "        vertical-align: middle;\n",
       "    }\n",
       "\n",
       "    .dataframe tbody tr th {\n",
       "        vertical-align: top;\n",
       "    }\n",
       "\n",
       "    .dataframe thead th {\n",
       "        text-align: right;\n",
       "    }\n",
       "</style>\n",
       "<table border=\"1\" class=\"dataframe\">\n",
       "  <thead>\n",
       "    <tr style=\"text-align: right;\">\n",
       "      <th></th>\n",
       "      <th>disparate_impact</th>\n",
       "      <th>statistical_parity_difference</th>\n",
       "      <th>DIDI</th>\n",
       "    </tr>\n",
       "  </thead>\n",
       "  <tbody>\n",
       "    <tr>\n",
       "      <th>disparate_impact</th>\n",
       "      <td>1.000000</td>\n",
       "      <td>0.996984</td>\n",
       "      <td>0.945017</td>\n",
       "    </tr>\n",
       "    <tr>\n",
       "      <th>statistical_parity_difference</th>\n",
       "      <td>0.996984</td>\n",
       "      <td>1.000000</td>\n",
       "      <td>0.797887</td>\n",
       "    </tr>\n",
       "    <tr>\n",
       "      <th>DIDI</th>\n",
       "      <td>0.945017</td>\n",
       "      <td>0.797887</td>\n",
       "      <td>1.000000</td>\n",
       "    </tr>\n",
       "  </tbody>\n",
       "</table>\n",
       "</div>"
      ],
      "text/plain": [
       "                               disparate_impact  \\\n",
       "disparate_impact                       1.000000   \n",
       "statistical_parity_difference          0.996984   \n",
       "DIDI                                   0.945017   \n",
       "\n",
       "                               statistical_parity_difference      DIDI  \n",
       "disparate_impact                                    0.996984  0.945017  \n",
       "statistical_parity_difference                       1.000000  0.797887  \n",
       "DIDI                                                0.797887  1.000000  "
      ]
     },
     "execution_count": 20,
     "metadata": {},
     "output_type": "execute_result"
    }
   ],
   "source": [
    "gender_bias[[\"disparate_impact\", \"statistical_parity_difference\", \"DIDI\"]].corr()"
   ]
  },
  {
   "cell_type": "markdown",
   "metadata": {},
   "source": [
    "## Location Bias"
   ]
  },
  {
   "cell_type": "code",
   "execution_count": null,
   "metadata": {},
   "outputs": [],
   "source": [
    "location_bias = f.show_bias(df_processed, \"same_location\", 1, plot_histogram=True)"
   ]
  },
  {
   "cell_type": "code",
   "execution_count": null,
   "metadata": {},
   "outputs": [],
   "source": [
    "location_bias.groupby(\"Sector\")[\"Disparate_Impact\"].describe()"
   ]
  },
  {
   "cell_type": "code",
   "execution_count": null,
   "metadata": {},
   "outputs": [],
   "source": [
    "sector_location_bias = location_bias[location_bias[\"Sector\"] == 4]\n",
    "print(\"Tot: \", sector_location_bias[\"Job\"].count())\n",
    "print(\n",
    "    \"Less than 0.8: \",\n",
    "    sector_location_bias[sector_location_bias[\"Disparate_Impact\"] < 0.8][\"Job\"].count(),\n",
    ")\n",
    "print(\n",
    "    \"Between: \",\n",
    "    sector_location_bias[\n",
    "        (sector_location_bias[\"Disparate_Impact\"] >= 0.8)\n",
    "        & (sector_location_bias[\"Disparate_Impact\"] < 1.3)\n",
    "    ][\"Job\"].count(),\n",
    ")\n",
    "print(\n",
    "    \"More than 1.3\",\n",
    "    sector_location_bias[sector_location_bias[\"Disparate_Impact\"] >= 1.3][\n",
    "        \"Job\"\n",
    "    ].count(),\n",
    ")"
   ]
  },
  {
   "cell_type": "code",
   "execution_count": null,
   "metadata": {},
   "outputs": [],
   "source": [
    "sector_location_bias.sort_values(by=\"Disparate_Impact\", ascending=False)"
   ]
  },
  {
   "cell_type": "code",
   "execution_count": null,
   "metadata": {},
   "outputs": [],
   "source": [
    "location_bias[[\"Disparate_Impact\", \"Statistical_Parity_Difference\", \"DIDI\"]].corr()"
   ]
  },
  {
   "cell_type": "markdown",
   "metadata": {},
   "source": [
    "### Region comparison"
   ]
  },
  {
   "cell_type": "code",
   "execution_count": null,
   "metadata": {},
   "outputs": [],
   "source": [
    "location_bias_lombardia = f.show_bias(df_lombardia, \"same_location\", 1, plot_histogram=True)\n",
    "location_bias_emilia = f.show_bias(df_emilia, \"same_location\", 1, plot_histogram=True)"
   ]
  },
  {
   "cell_type": "code",
   "execution_count": null,
   "metadata": {},
   "outputs": [],
   "source": [
    "location_bias_lombardia.groupby(\"Sector\")[\"Disparate_Impact\"].describe()"
   ]
  },
  {
   "cell_type": "code",
   "execution_count": null,
   "metadata": {},
   "outputs": [],
   "source": [
    "location_bias_emilia.groupby(\"Sector\")[\"Disparate_Impact\"].describe()"
   ]
  },
  {
   "cell_type": "markdown",
   "metadata": {},
   "source": [
    "## Age Bias\n",
    "Enconding:\n",
    "- \"15-24\": 0\n",
    "- \"25-34\": 1\n",
    "- \"35-44\": 2\n",
    "- \"45-54\": 3\n",
    "- \"55-74\": 4"
   ]
  },
  {
   "cell_type": "code",
   "execution_count": null,
   "metadata": {},
   "outputs": [],
   "source": [
    "age_bias = f.show_bias(df_processed, \"cand_age_bucket\", 1, plot_histogram=True)"
   ]
  },
  {
   "cell_type": "code",
   "execution_count": null,
   "metadata": {},
   "outputs": [],
   "source": [
    "age_bias.groupby(\"Sector\")[\"Disparate_Impact\"].describe()"
   ]
  },
  {
   "cell_type": "code",
   "execution_count": null,
   "metadata": {},
   "outputs": [],
   "source": [
    "sector_age_bias = age_bias[age_bias[\"Sector\"] == 3]\n",
    "print(\"Tot: \", sector_age_bias[\"Job\"].count())\n",
    "print(\n",
    "    \"Less than 0.8: \",\n",
    "    sector_age_bias[sector_age_bias[\"Disparate_Impact\"] < 0.8][\"Job\"].count(),\n",
    ")\n",
    "print(\n",
    "    \"Between: \",\n",
    "    sector_age_bias[\n",
    "        (sector_age_bias[\"Disparate_Impact\"] >= 0.8)\n",
    "        & (sector_age_bias[\"Disparate_Impact\"] < 1.3)\n",
    "    ][\"Job\"].count(),\n",
    ")\n",
    "print(\n",
    "    \"More than 1.3\",\n",
    "    sector_age_bias[sector_age_bias[\"Disparate_Impact\"] >= 1.3][\"Job\"].count(),\n",
    ")"
   ]
  },
  {
   "cell_type": "code",
   "execution_count": null,
   "metadata": {},
   "outputs": [],
   "source": [
    "sector_age_bias.sort_values(by=\"Disparate_Impact\", ascending=False)"
   ]
  },
  {
   "cell_type": "code",
   "execution_count": null,
   "metadata": {},
   "outputs": [],
   "source": [
    "age_bias[[\"Disparate_Impact\", \"Statistical_Parity_Difference\", \"DIDI\"]].corr()"
   ]
  },
  {
   "cell_type": "markdown",
   "metadata": {},
   "source": [
    "### Region comparison"
   ]
  },
  {
   "cell_type": "code",
   "execution_count": null,
   "metadata": {},
   "outputs": [],
   "source": [
    "age_bias_lombardia = f.show_bias(df_lombardia, \"same_location\", 1, plot_histogram=True)\n",
    "age_bias_emilia = f.show_bias(df_emilia, \"same_location\", 1, plot_histogram=True)"
   ]
  },
  {
   "cell_type": "code",
   "execution_count": null,
   "metadata": {},
   "outputs": [],
   "source": [
    "age_bias_lombardia.groupby(\"Sector\")[\"Disparate_Impact\"].describe()"
   ]
  },
  {
   "cell_type": "code",
   "execution_count": null,
   "metadata": {},
   "outputs": [],
   "source": [
    "age_bias_emilia.groupby(\"Sector\")[\"Disparate_Impact\"].describe()"
   ]
  }
 ],
 "metadata": {
  "kernelspec": {
   "display_name": "Python 3 (ipykernel)",
   "language": "python",
   "name": "python3"
  },
  "language_info": {
   "codemirror_mode": {
    "name": "ipython",
    "version": 3
   },
   "file_extension": ".py",
   "mimetype": "text/x-python",
   "name": "python",
   "nbconvert_exporter": "python",
   "pygments_lexer": "ipython3",
   "version": "3.11.12"
  }
 },
 "nbformat": 4,
 "nbformat_minor": 4
}
